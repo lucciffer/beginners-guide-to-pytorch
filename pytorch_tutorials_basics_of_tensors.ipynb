{
  "nbformat": 4,
  "nbformat_minor": 0,
  "metadata": {
    "colab": {
      "name": "pytorch_tutorials-basics_of_tensors",
      "provenance": [],
      "collapsed_sections": []
    },
    "kernelspec": {
      "name": "python3",
      "display_name": "Python 3"
    },
    "language_info": {
      "name": "python"
    }
  },
  "cells": [
    {
      "cell_type": "markdown",
      "metadata": {
        "id": "-vPLg_lSVlvY"
      },
      "source": [
        "# Pytorch Tutorials"
      ]
    },
    {
      "cell_type": "code",
      "metadata": {
        "colab": {
          "base_uri": "https://localhost:8080/"
        },
        "id": "LS6hEAWHVjHv",
        "outputId": "0d1270c6-6f8f-4e86-e352-462d32a53453"
      },
      "source": [
        "#install pytorch using pip commant\n",
        "!pip install torch torchvision"
      ],
      "execution_count": 1,
      "outputs": [
        {
          "output_type": "stream",
          "text": [
            "Requirement already satisfied: torch in /usr/local/lib/python3.7/dist-packages (1.8.1+cu101)\n",
            "Requirement already satisfied: torchvision in /usr/local/lib/python3.7/dist-packages (0.9.1+cu101)\n",
            "Requirement already satisfied: numpy in /usr/local/lib/python3.7/dist-packages (from torch) (1.19.5)\n",
            "Requirement already satisfied: typing-extensions in /usr/local/lib/python3.7/dist-packages (from torch) (3.7.4.3)\n",
            "Requirement already satisfied: pillow>=4.1.1 in /usr/local/lib/python3.7/dist-packages (from torchvision) (7.1.2)\n"
          ],
          "name": "stdout"
        }
      ]
    },
    {
      "cell_type": "code",
      "metadata": {
        "id": "xtct-7LpWuY3"
      },
      "source": [
        "import torch"
      ],
      "execution_count": 3,
      "outputs": []
    },
    {
      "cell_type": "code",
      "metadata": {
        "colab": {
          "base_uri": "https://localhost:8080/"
        },
        "id": "zILPbnJwWhgt",
        "outputId": "8e3f758f-e2bd-49a9-ec22-f1bd7f650b1a"
      },
      "source": [
        "#check is GPU is available\n",
        "torch.cuda.is_available()\n",
        "#True if GPU is available, else False "
      ],
      "execution_count": 4,
      "outputs": [
        {
          "output_type": "execute_result",
          "data": {
            "text/plain": [
              "False"
            ]
          },
          "metadata": {
            "tags": []
          },
          "execution_count": 4
        }
      ]
    },
    {
      "cell_type": "markdown",
      "metadata": {
        "id": "8MT_6lHqW5J-"
      },
      "source": [
        "## **Tensor basics**"
      ]
    },
    {
      "cell_type": "code",
      "metadata": {
        "colab": {
          "base_uri": "https://localhost:8080/"
        },
        "id": "fo0F-IRCWrlU",
        "outputId": "dc740fbb-f35f-464a-b22a-6281684574b3"
      },
      "source": [
        "# creating a simple tensor in torch\n",
        "tensor = torch.rand(3,3) # creating a 3*3 tensor\n",
        "print(tensor)"
      ],
      "execution_count": 5,
      "outputs": [
        {
          "output_type": "stream",
          "text": [
            "tensor([[0.4857, 0.2403, 0.0495],\n",
            "        [0.4289, 0.1251, 0.1743],\n",
            "        [0.8043, 0.6833, 0.3853]])\n"
          ],
          "name": "stdout"
        }
      ]
    },
    {
      "cell_type": "code",
      "metadata": {
        "colab": {
          "base_uri": "https://localhost:8080/"
        },
        "id": "Pg4G3_Z2Xhth",
        "outputId": "a45c6eb3-66ea-49c0-c017-d32bf1ea49fd"
      },
      "source": [
        "# creating tensors with 0's and 1's\n",
        "tensor_zeroes = torch.zeros(3,3) # creating tensor of 3*3 size with zeroes\n",
        "print(tensor_zeroes)"
      ],
      "execution_count": 6,
      "outputs": [
        {
          "output_type": "stream",
          "text": [
            "tensor([[0., 0., 0.],\n",
            "        [0., 0., 0.],\n",
            "        [0., 0., 0.]])\n"
          ],
          "name": "stdout"
        }
      ]
    },
    {
      "cell_type": "code",
      "metadata": {
        "colab": {
          "base_uri": "https://localhost:8080/"
        },
        "id": "NdNPicJfX5-U",
        "outputId": "c9ddaf34-fe88-4025-af2c-44a91e3bfd44"
      },
      "source": [
        "# creating tensors with 0's and 1's\n",
        "tensor_ones = torch.ones(3,3) # creating tensor of 3*3 size with ones\n",
        "print(tensor_ones)"
      ],
      "execution_count": 8,
      "outputs": [
        {
          "output_type": "stream",
          "text": [
            "tensor([[1., 1., 1.],\n",
            "        [1., 1., 1.],\n",
            "        [1., 1., 1.]])\n"
          ],
          "name": "stdout"
        }
      ]
    },
    {
      "cell_type": "code",
      "metadata": {
        "colab": {
          "base_uri": "https://localhost:8080/"
        },
        "id": "yq6TCN9kYC8v",
        "outputId": "71678876-7b3e-427c-95ca-1158591e72f6"
      },
      "source": [
        "# specifying the dtype of the tensors is done by\n",
        "tensorX = torch.ones(3,3, dtype=torch.int) # to specify other dtypes, do torch.float, torch.float16 torch.double and so on\n",
        "print(tensorX.dtype)"
      ],
      "execution_count": 9,
      "outputs": [
        {
          "output_type": "stream",
          "text": [
            "torch.int32\n"
          ],
          "name": "stdout"
        }
      ]
    },
    {
      "cell_type": "code",
      "metadata": {
        "colab": {
          "base_uri": "https://localhost:8080/"
        },
        "id": "2m0PRhWaYhnS",
        "outputId": "8a999232-da69-4a5a-c09e-b41922838621"
      },
      "source": [
        "# printing the size of the tensors\n",
        "print(tensorX.size()) # printing the size of the tensor tensorX"
      ],
      "execution_count": 10,
      "outputs": [
        {
          "output_type": "stream",
          "text": [
            "torch.Size([3, 3])\n"
          ],
          "name": "stdout"
        }
      ]
    },
    {
      "cell_type": "code",
      "metadata": {
        "colab": {
          "base_uri": "https://localhost:8080/"
        },
        "id": "JJxTBJi8Y1tE",
        "outputId": "eb3dc358-366a-4fe0-c368-119d99ddaf8d"
      },
      "source": [
        "# creating tensor from python lists\n",
        "tensor_from_list = torch.tensor([1, 2, 3, 4, 5])\n",
        "print(tensor_from_list)"
      ],
      "execution_count": 13,
      "outputs": [
        {
          "output_type": "stream",
          "text": [
            "tensor([1, 2, 3, 4, 5])\n"
          ],
          "name": "stdout"
        }
      ]
    },
    {
      "cell_type": "markdown",
      "metadata": {
        "id": "Dxn-NaBkZXNo"
      },
      "source": [
        "## Basic operations on tensors"
      ]
    },
    {
      "cell_type": "code",
      "metadata": {
        "colab": {
          "base_uri": "https://localhost:8080/"
        },
        "id": "a0KHjjLhZLFp",
        "outputId": "f5d89af3-093b-4a3c-ec19-be3441471308"
      },
      "source": [
        "# lets consider two tensors X and Y of random values and of size 3*3\n",
        "tensor_X = torch.rand(3,3)\n",
        "tensor_Y = torch.rand(3,3)\n",
        "\n",
        "print(tensor_X)\n",
        "print(tensor_Y)\n",
        "\n",
        "# Adding both the tensors\n",
        "#element wise addition of the tensors \n",
        "tensor_sum = tensor_X + tensor_Y\n",
        "# the above operation can also be done by\n",
        "# tensor_sum = torch.add(tensor_X, tensor_Y)\n",
        "print(tensor_sum)\n",
        "\n",
        "# performing in-place addition operation\n",
        "tensor_Y.add_(tensor_X)\n",
        "print(tensor_Y)"
      ],
      "execution_count": 16,
      "outputs": [
        {
          "output_type": "stream",
          "text": [
            "tensor([[0.4452, 0.3003, 0.9618],\n",
            "        [0.8185, 0.9370, 0.1899],\n",
            "        [0.2441, 0.9679, 0.3947]])\n",
            "tensor([[0.3210, 0.3184, 0.2487],\n",
            "        [0.5994, 0.8849, 0.7035],\n",
            "        [0.6868, 0.7173, 0.7911]])\n",
            "tensor([[0.7662, 0.6187, 1.2104],\n",
            "        [1.4179, 1.8218, 0.8934],\n",
            "        [0.9309, 1.6852, 1.1858]])\n",
            "tensor([[0.7662, 0.6187, 1.2104],\n",
            "        [1.4179, 1.8218, 0.8934],\n",
            "        [0.9309, 1.6852, 1.1858]])\n"
          ],
          "name": "stdout"
        }
      ]
    },
    {
      "cell_type": "code",
      "metadata": {
        "colab": {
          "base_uri": "https://localhost:8080/"
        },
        "id": "uH_RWxdzaItC",
        "outputId": "97ca726d-1ce8-4e06-de1c-71045ed35c20"
      },
      "source": [
        "# subtraction operation on tensors\n",
        "tensor_X = torch.rand(3,3)\n",
        "tensor_Y = torch.rand(3,3)\n",
        "\n",
        "print(tensor_X)\n",
        "print(tensor_Y)\n",
        "\n",
        "# performing subtraction operation\n",
        "tensor_sub = tensor_X - tensor_Y\n",
        "# above operation can also be done by\n",
        "# tensor_sub = torch.sub(tensor_X, tensor_Y)\n",
        "print(tensor_sub)"
      ],
      "execution_count": 17,
      "outputs": [
        {
          "output_type": "stream",
          "text": [
            "tensor([[0.9065, 0.0608, 0.2062],\n",
            "        [0.7183, 0.4859, 0.5968],\n",
            "        [0.8398, 0.2159, 0.5594]])\n",
            "tensor([[3.5471e-04, 6.5176e-01, 3.4131e-01],\n",
            "        [1.1576e-01, 5.3296e-02, 9.9585e-01],\n",
            "        [2.7035e-01, 7.8502e-01, 3.5026e-01]])\n",
            "tensor([[ 0.9061, -0.5909, -0.1351],\n",
            "        [ 0.6025,  0.4326, -0.3991],\n",
            "        [ 0.5695, -0.5691,  0.2091]])\n"
          ],
          "name": "stdout"
        }
      ]
    },
    {
      "cell_type": "code",
      "metadata": {
        "colab": {
          "base_uri": "https://localhost:8080/"
        },
        "id": "VlZJsSKibcuo",
        "outputId": "9118f164-be41-4c7b-cd32-6e02aa493bbd"
      },
      "source": [
        "# multiplication operation on tensors\n",
        "tensor_X = torch.rand(3,3)\n",
        "tensor_Y = torch.rand(3,3)\n",
        "\n",
        "print(tensor_X)\n",
        "print(tensor_Y)\n",
        "\n",
        "# performing multiplications operation\n",
        "tensor_mul = tensor_X * tensor_Y\n",
        "# above operation can also be done by\n",
        "# tensor_mul = torch.mul(tensor_X, tensor_Y)\n",
        "print(tensor_mul)"
      ],
      "execution_count": 18,
      "outputs": [
        {
          "output_type": "stream",
          "text": [
            "tensor([[0.7164, 0.8609, 0.3818],\n",
            "        [0.4759, 0.2543, 0.8694],\n",
            "        [0.2220, 0.5611, 0.7241]])\n",
            "tensor([[0.7345, 0.1831, 0.3399],\n",
            "        [0.0168, 0.9074, 0.2022],\n",
            "        [0.1727, 0.6534, 0.7763]])\n",
            "tensor([[0.5262, 0.1577, 0.1298],\n",
            "        [0.0080, 0.2307, 0.1758],\n",
            "        [0.0383, 0.3667, 0.5621]])\n"
          ],
          "name": "stdout"
        }
      ]
    },
    {
      "cell_type": "code",
      "metadata": {
        "colab": {
          "base_uri": "https://localhost:8080/"
        },
        "id": "MwJLSUAZbmoq",
        "outputId": "cdf0c34d-a6d9-4c45-a2a0-b321806b30e1"
      },
      "source": [
        "# division operation on tensors\n",
        "tensor_X = torch.rand(3,3)\n",
        "tensor_Y = torch.rand(3,3)\n",
        "\n",
        "print(tensor_X)\n",
        "print(tensor_Y)\n",
        "\n",
        "# performing division operation\n",
        "tensor_div = tensor_X * tensor_Y\n",
        "# above operation can also be done by\n",
        "# tensor_div = torch.mul(tensor_X, tensor_Y)\n",
        "print(tensor_div)"
      ],
      "execution_count": 19,
      "outputs": [
        {
          "output_type": "stream",
          "text": [
            "tensor([[0.0178, 0.6918, 0.1980],\n",
            "        [0.9581, 0.3018, 0.2728],\n",
            "        [0.2582, 0.0522, 0.2980]])\n",
            "tensor([[0.4860, 0.5033, 0.8077],\n",
            "        [0.9330, 0.5003, 0.5518],\n",
            "        [0.7744, 0.0605, 0.6489]])\n",
            "tensor([[0.0086, 0.3482, 0.1599],\n",
            "        [0.8939, 0.1510, 0.1505],\n",
            "        [0.1999, 0.0032, 0.1934]])\n"
          ],
          "name": "stdout"
        }
      ]
    },
    {
      "cell_type": "code",
      "metadata": {
        "colab": {
          "base_uri": "https://localhost:8080/"
        },
        "id": "IVb3gXIMb7_J",
        "outputId": "904156d9-6007-4dc3-d38b-5daeda443302"
      },
      "source": [
        "# slicing of tensors\n",
        "tensor_full = torch.rand(5,3)\n",
        "print(tensor_full)\n",
        "\n",
        "# slicing \n",
        "tensor_slice = tensor_full[: 2] # slice first two columns and all rows\n",
        "print(tensor_slice)"
      ],
      "execution_count": 30,
      "outputs": [
        {
          "output_type": "stream",
          "text": [
            "tensor([[0.2777, 0.8649, 0.6376],\n",
            "        [0.0675, 0.1614, 0.3583],\n",
            "        [0.8222, 0.7473, 0.0547],\n",
            "        [0.7872, 0.6211, 0.5292],\n",
            "        [0.7934, 0.2050, 0.9650]])\n",
            "tensor([[0.2777, 0.8649, 0.6376],\n",
            "        [0.0675, 0.1614, 0.3583]])\n",
            "tensor([0.7872, 0.6211, 0.5292])\n"
          ],
          "name": "stdout"
        }
      ]
    },
    {
      "cell_type": "code",
      "metadata": {
        "colab": {
          "base_uri": "https://localhost:8080/"
        },
        "id": "tZ19AzkEczL8",
        "outputId": "8ea67844-fe19-4bf9-f3bb-4ef6271c0649"
      },
      "source": [
        "tensor_full = torch.rand(5,3)\n",
        "print(tensor_full)\n",
        "\n",
        "tensor_slice2 = tensor_full[3, :] # slice 3rd row, and all columns\n",
        "print(tensor_slice2)"
      ],
      "execution_count": 32,
      "outputs": [
        {
          "output_type": "stream",
          "text": [
            "tensor([[0.4528, 0.9177, 0.2068],\n",
            "        [0.0824, 0.5227, 0.4154],\n",
            "        [0.3129, 0.7448, 0.6352],\n",
            "        [0.8006, 0.8225, 0.7225],\n",
            "        [0.2473, 0.2297, 0.2784]])\n",
            "tensor([0.8006, 0.8225, 0.7225])\n"
          ],
          "name": "stdout"
        }
      ]
    },
    {
      "cell_type": "code",
      "metadata": {
        "colab": {
          "base_uri": "https://localhost:8080/"
        },
        "id": "crdroUXQeM1x",
        "outputId": "e63bb365-90be-4164-c978-32eb794f0413"
      },
      "source": [
        "# Reshaping the tensors\n",
        "tensor_original = torch.rand(10,3) # original tensor of size 10*3\n",
        "print(tensor_original)\n",
        "print('original tensor size is ',tensor_original.size())\n",
        "tensor_reshaped = tensor_original.view(6,5) # reshaping tensor to 6*5 size\n",
        "print(tensor_reshaped)\n",
        "print('reshaped tensor size is ',tensor_reshaped.size())\n",
        "tensor_reshaped2 = tensor_original.view(3,10) # reshaping tensor to 3,10 size\n",
        "print(tensor_reshaped2)\n",
        "print('reshaped2 tensor size is ',tensor_reshaped2.size())"
      ],
      "execution_count": 38,
      "outputs": [
        {
          "output_type": "stream",
          "text": [
            "tensor([[0.8880, 0.1755, 0.2257],\n",
            "        [0.1053, 0.5557, 0.2289],\n",
            "        [0.0352, 0.4088, 0.7401],\n",
            "        [0.7558, 0.0391, 0.5301],\n",
            "        [0.0054, 0.6595, 0.4104],\n",
            "        [0.1487, 0.6137, 0.0873],\n",
            "        [0.0730, 0.9446, 0.9469],\n",
            "        [0.3604, 0.9291, 0.5328],\n",
            "        [0.1961, 0.8106, 0.0046],\n",
            "        [0.9997, 0.2156, 0.7489]])\n",
            "original tensor size is  torch.Size([10, 3])\n",
            "tensor([[0.8880, 0.1755, 0.2257, 0.1053, 0.5557],\n",
            "        [0.2289, 0.0352, 0.4088, 0.7401, 0.7558],\n",
            "        [0.0391, 0.5301, 0.0054, 0.6595, 0.4104],\n",
            "        [0.1487, 0.6137, 0.0873, 0.0730, 0.9446],\n",
            "        [0.9469, 0.3604, 0.9291, 0.5328, 0.1961],\n",
            "        [0.8106, 0.0046, 0.9997, 0.2156, 0.7489]])\n",
            "reshaped tensor size is  torch.Size([6, 5])\n",
            "tensor([[0.8880, 0.1755, 0.2257, 0.1053, 0.5557, 0.2289, 0.0352, 0.4088, 0.7401,\n",
            "         0.7558],\n",
            "        [0.0391, 0.5301, 0.0054, 0.6595, 0.4104, 0.1487, 0.6137, 0.0873, 0.0730,\n",
            "         0.9446],\n",
            "        [0.9469, 0.3604, 0.9291, 0.5328, 0.1961, 0.8106, 0.0046, 0.9997, 0.2156,\n",
            "         0.7489]])\n",
            "reshaped2 tensor size is  torch.Size([3, 10])\n"
          ],
          "name": "stdout"
        }
      ]
    },
    {
      "cell_type": "markdown",
      "metadata": {
        "id": "ToZBImXEgNxP"
      },
      "source": [
        "## **Pytorch to numpy and vice-versa**"
      ]
    },
    {
      "cell_type": "code",
      "metadata": {
        "id": "-xat-s27fOj1"
      },
      "source": [
        "import numpy as np\n",
        "import torch"
      ],
      "execution_count": 39,
      "outputs": []
    },
    {
      "cell_type": "code",
      "metadata": {
        "colab": {
          "base_uri": "https://localhost:8080/"
        },
        "id": "iryv54IRhnQL",
        "outputId": "7eab7c17-06d4-4cda-df5f-69d1443fbc59"
      },
      "source": [
        "# converting tensors to numpy arrays\n",
        "tensorA = torch.ones(5) # creating a tensor of ones, of size 5\n",
        "print(tensorA)\n",
        "np_array = tensorA.numpy() # .numpy() converts the tensor to a numpy array\n",
        "print(np_array)"
      ],
      "execution_count": 42,
      "outputs": [
        {
          "output_type": "stream",
          "text": [
            "tensor([1., 1., 1., 1., 1.])\n",
            "[1. 1. 1. 1. 1.]\n"
          ],
          "name": "stdout"
        }
      ]
    },
    {
      "cell_type": "code",
      "metadata": {
        "colab": {
          "base_uri": "https://localhost:8080/"
        },
        "id": "hoirLVBIh0ww",
        "outputId": "8fb6eded-37d6-4da3-c6cf-1f3a41e83129"
      },
      "source": [
        "# converting numpy arrays to tensors\n",
        "np_array1 = np.ones(5) # creating numpy array of ones of size 5\n",
        "print(np_array1)\n",
        "np_to_tensor = torch.from_numpy(np_array1) # dtype is float64 by default, if you want to change, dtype can be specified\n",
        "print(np_to_tensor)"
      ],
      "execution_count": 43,
      "outputs": [
        {
          "output_type": "stream",
          "text": [
            "[1. 1. 1. 1. 1.]\n",
            "tensor([1., 1., 1., 1., 1.], dtype=torch.float64)\n"
          ],
          "name": "stdout"
        }
      ]
    },
    {
      "cell_type": "markdown",
      "metadata": {
        "id": "PYbXOD0jpFz3"
      },
      "source": [
        "### How to check is GPU is available on your computer"
      ]
    },
    {
      "cell_type": "code",
      "metadata": {
        "colab": {
          "base_uri": "https://localhost:8080/"
        },
        "id": "3iWLUeN_oU-D",
        "outputId": "62535157-7004-43e3-eead-7e8e99921d4f"
      },
      "source": [
        "device = torch.device('cuda' if torch.cuda.is_available() else 'cpu')\n",
        "print(device)"
      ],
      "execution_count": 44,
      "outputs": [
        {
          "output_type": "stream",
          "text": [
            "cpu\n"
          ],
          "name": "stdout"
        }
      ]
    },
    {
      "cell_type": "code",
      "metadata": {
        "colab": {
          "base_uri": "https://localhost:8080/"
        },
        "id": "lZZE6W6NpcXr",
        "outputId": "337e9056-aadf-40d9-c892-dad3051f6d31"
      },
      "source": [
        "# transfering tensors to GPU if available \n",
        "tensor_to_gpu = torch.rand(5,5)\n",
        "tensor_to_gpu.to(device) # if gpu is available then the tensor will be transferred to the available gpu else it will remain on cpu"
      ],
      "execution_count": 45,
      "outputs": [
        {
          "output_type": "execute_result",
          "data": {
            "text/plain": [
              "tensor([[0.3301, 0.2548, 0.7886, 0.4607, 0.5681],\n",
              "        [0.7819, 0.5022, 0.7414, 0.4503, 0.2034],\n",
              "        [0.5163, 0.7463, 0.0760, 0.3742, 0.9359],\n",
              "        [0.0491, 0.9469, 0.7518, 0.5167, 0.3486],\n",
              "        [0.5796, 0.6349, 0.0841, 0.4642, 0.6814]])"
            ]
          },
          "metadata": {
            "tags": []
          },
          "execution_count": 45
        }
      ]
    },
    {
      "cell_type": "code",
      "metadata": {
        "id": "YAG5iAK1py7T"
      },
      "source": [
        ""
      ],
      "execution_count": null,
      "outputs": []
    }
  ]
}